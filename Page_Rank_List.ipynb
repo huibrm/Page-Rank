{
 "cells": [
  {
   "cell_type": "code",
   "execution_count": 1,
   "metadata": {
    "collapsed": true
   },
   "outputs": [],
   "source": [
    "#imports\n",
    "import functions as f\n",
    "import numpy as np\n",
    "import pandas as pd\n",
    "from scipy import stats # ANOVA\n",
    "from numpy import linalg as LA\n",
    "import matplotlib.pyplot as plt\n",
    "import scipy as sp\n",
    "%matplotlib inline"
   ]
  },
  {
   "cell_type": "code",
   "execution_count": 2,
   "metadata": {},
   "outputs": [
    {
     "name": "stdout",
     "output_type": "stream",
     "text": [
      "4283119\n"
     ]
    }
   ],
   "source": [
    "# moving data from txt file into Adjacency Matrix\n",
    "\n",
    "# importing, reading file\n",
    "file = open('links.txt', 'r')\n",
    "\n",
    "#keeping count of itterations\n",
    "count = 0\n",
    "\n",
    "Adj = sp.sparse.csr_matrix((10748, 10748)).toarray()\n",
    "for line in file:\n",
    "    line = line.strip('\\n')\n",
    "    value = line.split(\", \")\n",
    "    r_list = list(map(int, value))\n",
    "    Adj[r_list[0]][r_list[1]] = r_list[2]\n",
    "    count += 1\n",
    "\n",
    "print(count)\n",
    "np.fill_diagonal(Adj, 0)        \n",
    "file.close()\n",
    "\n",
    "\n",
    "\n",
    "\n"
   ]
  },
  {
   "cell_type": "code",
   "execution_count": 3,
   "metadata": {},
   "outputs": [],
   "source": [
    "def norm1(matrix):    \n",
    "    SUM = matrix.sum(axis = 0)\n",
    "    matrix/SUM\n",
    "    matrix[np.isnan(matrix)] = 0\n",
    "    return(matrix)"
   ]
  },
  {
   "cell_type": "code",
   "execution_count": 4,
   "metadata": {},
   "outputs": [
    {
     "ename": "MemoryError",
     "evalue": "",
     "output_type": "error",
     "traceback": [
      "\u001b[1;31m---------------------------------------------------------------------------\u001b[0m",
      "\u001b[1;31mMemoryError\u001b[0m                               Traceback (most recent call last)",
      "\u001b[1;32m<ipython-input-4-6c207f086b4d>\u001b[0m in \u001b[0;36m<module>\u001b[1;34m()\u001b[0m\n\u001b[0;32m      1\u001b[0m \u001b[1;33m\u001b[0m\u001b[0m\n\u001b[1;32m----> 2\u001b[1;33m \u001b[0mAdj\u001b[0m \u001b[1;33m=\u001b[0m \u001b[0mnorm1\u001b[0m\u001b[1;33m(\u001b[0m\u001b[0mAdj\u001b[0m\u001b[1;33m)\u001b[0m\u001b[1;33m\u001b[0m\u001b[0m\n\u001b[0m",
      "\u001b[1;32m<ipython-input-3-1ba9cf4decc3>\u001b[0m in \u001b[0;36mnorm1\u001b[1;34m(matrix)\u001b[0m\n\u001b[0;32m      1\u001b[0m \u001b[1;32mdef\u001b[0m \u001b[0mnorm1\u001b[0m\u001b[1;33m(\u001b[0m\u001b[0mmatrix\u001b[0m\u001b[1;33m)\u001b[0m\u001b[1;33m:\u001b[0m\u001b[1;33m\u001b[0m\u001b[0m\n\u001b[0;32m      2\u001b[0m     \u001b[0mSUM\u001b[0m \u001b[1;33m=\u001b[0m \u001b[0mmatrix\u001b[0m\u001b[1;33m.\u001b[0m\u001b[0msum\u001b[0m\u001b[1;33m(\u001b[0m\u001b[0maxis\u001b[0m \u001b[1;33m=\u001b[0m \u001b[1;36m0\u001b[0m\u001b[1;33m)\u001b[0m\u001b[1;33m\u001b[0m\u001b[0m\n\u001b[1;32m----> 3\u001b[1;33m     \u001b[0mmatrix\u001b[0m\u001b[1;33m/\u001b[0m\u001b[0mSUM\u001b[0m\u001b[1;33m\u001b[0m\u001b[0m\n\u001b[0m\u001b[0;32m      4\u001b[0m     \u001b[0mmatrix\u001b[0m\u001b[1;33m[\u001b[0m\u001b[0mnp\u001b[0m\u001b[1;33m.\u001b[0m\u001b[0misnan\u001b[0m\u001b[1;33m(\u001b[0m\u001b[0mmatrix\u001b[0m\u001b[1;33m)\u001b[0m\u001b[1;33m]\u001b[0m \u001b[1;33m=\u001b[0m \u001b[1;36m0\u001b[0m\u001b[1;33m\u001b[0m\u001b[0m\n\u001b[0;32m      5\u001b[0m     \u001b[1;32mreturn\u001b[0m\u001b[1;33m(\u001b[0m\u001b[0mmatrix\u001b[0m\u001b[1;33m)\u001b[0m\u001b[1;33m\u001b[0m\u001b[0m\n",
      "\u001b[1;31mMemoryError\u001b[0m: "
     ]
    }
   ],
   "source": [
    "\n",
    "Adj = norm1(Adj)\n"
   ]
  },
  {
   "cell_type": "code",
   "execution_count": 5,
   "metadata": {
    "collapsed": true
   },
   "outputs": [],
   "source": [
    "def dangleNodes(matrix):\n",
    "    \"\"\"This function takes in a matrix and returns a vector of dangeling nodes\"\"\"\n",
    "    index = []\n",
    "    d= np.zeros(matrix.shape[0])\n",
    "    index.append(np.where(~matrix.T.any(axis=1))[0])\n",
    "    for i in index:\n",
    "        np.put(d, [i], [1])\n",
    "    return(d)"
   ]
  },
  {
   "cell_type": "code",
   "execution_count": 6,
   "metadata": {
    "collapsed": true
   },
   "outputs": [],
   "source": [
    "def Article(matrix):\n",
    "    \"\"\"computes article vector\"\"\"\n",
    "    a = []\n",
    "    matrix = matrix.T\n",
    "    total_sum = matrix.sum()\n",
    "    a.append((1/total_sum) * matrix[:,0])\n",
    "    a = np.array(a)\n",
    "    return(a)"
   ]
  },
  {
   "cell_type": "code",
   "execution_count": 7,
   "metadata": {
    "collapsed": true
   },
   "outputs": [],
   "source": [
    "def InitStartVector(matrix):\n",
    "    length = len(matrix)\n",
    "    a = np.empty(length)\n",
    "    a.fill(1/length)\n",
    "    a = np.matrix(a)\n",
    "    return(a)"
   ]
  },
  {
   "cell_type": "code",
   "execution_count": 8,
   "metadata": {
    "collapsed": true
   },
   "outputs": [],
   "source": [
    "def getE(matrix):\n",
    "    length = len(matrix)\n",
    "    a = np.empty(length)\n",
    "    a.fill(1)\n",
    "    return(a)"
   ]
  },
  {
   "cell_type": "code",
   "execution_count": 9,
   "metadata": {
    "collapsed": true
   },
   "outputs": [],
   "source": [
    "def findP(pi, H):\n",
    "  \n",
    "    residual = 2\n",
    "    count = 0\n",
    "    while (EPSILON < residual):\n",
    "        pi2 = [ALPHA*d@pi1 + (1-ALPHA)] * a\n",
    "        pi2 = (ALPHA*H*pi1) + ([ALPHA*d@pi1 + (1-ALPHA)] * a).T\n",
    "        tao = pi2 - pi1\n",
    "        residual = np.linalg.norm((pi2-pi1), ord = 1)\n",
    "        pi1 = pi2\n",
    "        count = count+1\n",
    "    print(count)\n",
    "    return(pi1)\n"
   ]
  },
  {
   "cell_type": "code",
   "execution_count": null,
   "metadata": {
    "collapsed": true
   },
   "outputs": [],
   "source": [
    "# finding Eigenfactor for each journal \n",
    "def Eigenfactor(matrixH, matrixa):\n",
    "    dot = matrixH @ matrixa\n",
    "    EF = np.array([dot / np.sum(dot)]) * 100\n",
    "    #EF = np.array(EF[0])\n",
    "    return(EF)\n",
    "    "
   ]
  }
 ],
 "metadata": {
  "kernelspec": {
   "display_name": "Python 3",
   "language": "python",
   "name": "python3"
  },
  "language_info": {
   "codemirror_mode": {
    "name": "ipython",
    "version": 3
   },
   "file_extension": ".py",
   "mimetype": "text/x-python",
   "name": "python",
   "nbconvert_exporter": "python",
   "pygments_lexer": "ipython3",
   "version": "3.6.3"
  }
 },
 "nbformat": 4,
 "nbformat_minor": 2
}
