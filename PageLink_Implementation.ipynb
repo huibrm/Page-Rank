{
 "cells": [
  {
   "cell_type": "code",
   "execution_count": 308,
   "metadata": {
    "collapsed": true
   },
   "outputs": [],
   "source": [
    "#imports \n",
    "import numpy as np\n",
    "import pandas as pd\n",
    "from scipy import stats # ANOVA\n",
    "from numpy import linalg as LA\n",
    "import matplotlib.pyplot as plt\n",
    "import scipy as sp\n",
    "%matplotlib inline"
   ]
  },
  {
   "cell_type": "code",
   "execution_count": 309,
   "metadata": {
    "collapsed": true
   },
   "outputs": [],
   "source": [
    "#constants\n",
    "ALPHA = 0.85\n",
    "EPSILON = 0.00001"
   ]
  },
  {
   "cell_type": "code",
   "execution_count": 310,
   "metadata": {},
   "outputs": [
    {
     "name": "stdout",
     "output_type": "stream",
     "text": [
      "Adjcency Matrix Z\n",
      " [[1 0 2 0 4 3]\n",
      " [3 0 1 1 0 0]\n",
      " [2 0 4 0 1 0]\n",
      " [0 0 1 0 0 1]\n",
      " [8 0 3 0 5 2]\n",
      " [0 0 0 0 0 0]]\n",
      "Publish Number Matrix\n",
      " [[3 2 5 1 2 1]]\n"
     ]
    },
    {
     "data": {
      "text/plain": [
       "(6, 6)"
      ]
     },
     "execution_count": 310,
     "metadata": {},
     "output_type": "execute_result"
    }
   ],
   "source": [
    "# construct Adjacency matrix Z\n",
    "Z = np.matrix('1 0 2 0 4 3; 3 0 1 1 0 0; 2 0 4 0 1 0; 0 0 1 0 0 1; 8 0 3 0 5 2; 0 0 0 0 0 0')\n",
    "print('Adjcency Matrix Z\\n', Z)\n",
    "p = np.matrix('3 2 5 1 2 1')\n",
    "print('Publish Number Matrix\\n', p)\n",
    "Z.shape"
   ]
  },
  {
   "cell_type": "code",
   "execution_count": 311,
   "metadata": {},
   "outputs": [
    {
     "name": "stdout",
     "output_type": "stream",
     "text": [
      "Set diagonals of Z == 0\n",
      " [[0 0 2 0 4 3]\n",
      " [3 0 1 1 0 0]\n",
      " [2 0 0 0 1 0]\n",
      " [0 0 1 0 0 1]\n",
      " [8 0 3 0 0 2]\n",
      " [0 0 0 0 0 0]]\n",
      "\n",
      " [[2]\n",
      " [1]\n",
      " [0]\n",
      " [1]\n",
      " [3]\n",
      " [0]]\n",
      "[[0 0 2 0 4 3]\n",
      " [3 0 1 1 0 0]\n",
      " [2 0 0 0 1 0]\n",
      " [0 0 1 0 0 1]\n",
      " [8 0 3 0 0 2]\n",
      " [0 0 0 0 0 0]]\n"
     ]
    }
   ],
   "source": [
    "# set diagonals == 0.T\n",
    "di = np.diag_indices(Z.shape[1])\n",
    "Z[di] = 0\n",
    "print('Set diagonals of Z == 0\\n', Z)\n",
    "print('\\n', Z[::][:,2])\n",
    "#list1 =np.array([[1,2,3,4,5,6]])\n",
    "#print(list1.T)\n",
    "#print(list1.shape)\n",
    "#print(Z[:,2].shape)\n",
    "#Z[:,2] = list1.T \n",
    "print(Z)"
   ]
  },
  {
   "cell_type": "code",
   "execution_count": 312,
   "metadata": {
    "collapsed": true
   },
   "outputs": [],
   "source": [
    "def norm(matrix):\n",
    "    \"\"\"This function normalizes a matrix. I wrote a function so it would run faster\"\"\"\n",
    "    H = []\n",
    "    count = 0\n",
    "    for row in matrix:\n",
    "        total_sum = matrix[:,count].sum()\n",
    "        if total_sum == 0:\n",
    "            total_sum = 1   \n",
    "        H.append((1/total_sum) * matrix[:,count])\n",
    "        count = count + 1\n",
    "    H = np.array(H)\n",
    "    return(H)\n",
    "    "
   ]
  },
  {
   "cell_type": "code",
   "execution_count": 313,
   "metadata": {},
   "outputs": [
    {
     "name": "stdout",
     "output_type": "stream",
     "text": [
      "[[0 0 2 0 4 3]\n",
      " [3 0 1 1 0 0]\n",
      " [2 0 0 0 1 0]\n",
      " [0 0 1 0 0 1]\n",
      " [8 0 3 0 0 2]\n",
      " [0 0 0 0 0 0]]\n"
     ]
    }
   ],
   "source": [
    "print(Z)\n",
    "def norm1(matrix):    \n",
    "    SUM = matrix.sum(axis = 0)\n",
    "    matrix = matrix/SUM\n",
    "    matrix[np.isnan(matrix)] = 0\n",
    "    return(matrix)"
   ]
  },
  {
   "cell_type": "code",
   "execution_count": 314,
   "metadata": {},
   "outputs": [
    {
     "name": "stdout",
     "output_type": "stream",
     "text": [
      "Z normalized = H\n",
      " [[0.         0.         0.28571429 0.         0.8        0.5       ]\n",
      " [0.23076923 0.         0.14285714 1.         0.         0.        ]\n",
      " [0.15384615 0.         0.         0.         0.2        0.        ]\n",
      " [0.         0.         0.14285714 0.         0.         0.16666667]\n",
      " [0.61538462 0.         0.42857143 0.         0.         0.33333333]\n",
      " [0.         0.         0.         0.         0.         0.        ]]\n"
     ]
    },
    {
     "name": "stderr",
     "output_type": "stream",
     "text": [
      "C:\\Users\\maryh\\Anaconda3\\lib\\site-packages\\ipykernel_launcher.py:4: RuntimeWarning: invalid value encountered in true_divide\n",
      "  after removing the cwd from sys.path.\n"
     ]
    }
   ],
   "source": [
    "# Creating the normalized matrix H\n",
    "H = norm1(Z)\n",
    "\n",
    "\n",
    "\n",
    "print('Z normalized = H\\n', H)\n",
    "\n"
   ]
  },
  {
   "cell_type": "code",
   "execution_count": 315,
   "metadata": {
    "collapsed": true
   },
   "outputs": [],
   "source": [
    "# Identifying dangling nodes\n",
    "def dangleNodes(matrix):\n",
    "    \"\"\"This function takes in a matrix and returns a vector of dangeling nodes\"\"\"\n",
    "    index = []\n",
    "    d= np.zeros(matrix.shape[0])\n",
    "    index.append(np.where(~matrix.T.any(axis=1))[0])\n",
    "    for i in index:\n",
    "        np.put(d, [i], [1])\n",
    "    return(d)\n",
    "    "
   ]
  },
  {
   "cell_type": "code",
   "execution_count": 316,
   "metadata": {},
   "outputs": [
    {
     "name": "stdout",
     "output_type": "stream",
     "text": [
      "dangelingNode array d\n",
      " [0. 1. 0. 0. 0. 0.]\n"
     ]
    }
   ],
   "source": [
    "# dangleingNode array\n",
    "d = dangleNodes(Z)\n",
    "print('dangelingNode array d\\n', d)"
   ]
  },
  {
   "cell_type": "code",
   "execution_count": 317,
   "metadata": {
    "collapsed": true
   },
   "outputs": [],
   "source": [
    "# constructing Article Vector\n",
    "def Article(matrix):\n",
    "    \"\"\"computes article vector\"\"\"\n",
    "    a = []\n",
    "    matrix = matrix.T\n",
    "    total_sum = matrix.sum()\n",
    "    a.append((1/total_sum) * matrix[:,0])\n",
    "    a = np.array(a)\n",
    "    return(a)"
   ]
  },
  {
   "cell_type": "code",
   "execution_count": 318,
   "metadata": {},
   "outputs": [
    {
     "name": "stdout",
     "output_type": "stream",
     "text": [
      "[[0.21428571]\n",
      " [0.14285714]\n",
      " [0.35714286]\n",
      " [0.07142857]\n",
      " [0.14285714]\n",
      " [0.07142857]]\n"
     ]
    }
   ],
   "source": [
    "a = Article(p)\n",
    "a = np.matrix(a)\n",
    "print(a.T)\n"
   ]
  },
  {
   "cell_type": "code",
   "execution_count": 319,
   "metadata": {
    "collapsed": true
   },
   "outputs": [],
   "source": [
    "def InitStartVector(matrix):\n",
    "    length = len(matrix)\n",
    "    a = np.empty(length)\n",
    "    a.fill(1/length)\n",
    "    a = np.matrix(a)\n",
    "    return(a)"
   ]
  },
  {
   "cell_type": "code",
   "execution_count": 320,
   "metadata": {},
   "outputs": [
    {
     "name": "stdout",
     "output_type": "stream",
     "text": [
      "[[0.16666667]\n",
      " [0.16666667]\n",
      " [0.16666667]\n",
      " [0.16666667]\n",
      " [0.16666667]\n",
      " [0.16666667]]\n"
     ]
    }
   ],
   "source": [
    "# computing initial start vector\n",
    "pi = InitStartVector(Z)\n",
    "pi = pi.T\n",
    "print(pi)"
   ]
  },
  {
   "cell_type": "code",
   "execution_count": 321,
   "metadata": {
    "collapsed": true
   },
   "outputs": [],
   "source": [
    "# building matrix e\n",
    "def getE(matrix):\n",
    "    length = len(matrix)\n",
    "    a = np.empty(length)\n",
    "    a.fill(1)\n",
    "    return(a)"
   ]
  },
  {
   "cell_type": "code",
   "execution_count": 322,
   "metadata": {},
   "outputs": [
    {
     "name": "stdout",
     "output_type": "stream",
     "text": [
      "[1. 1. 1. 1. 1. 1.]\n"
     ]
    }
   ],
   "source": [
    "e = getE(Z)\n",
    "print(e)"
   ]
  },
  {
   "cell_type": "code",
   "execution_count": 323,
   "metadata": {},
   "outputs": [
    {
     "ename": "ValueError",
     "evalue": "shapes (1,6) and (1,6) not aligned: 6 (dim 1) != 1 (dim 0)",
     "output_type": "error",
     "traceback": [
      "\u001b[1;31m---------------------------------------------------------------------------\u001b[0m",
      "\u001b[1;31mValueError\u001b[0m                                Traceback (most recent call last)",
      "\u001b[1;32m<ipython-input-323-234219c6b1aa>\u001b[0m in \u001b[0;36m<module>\u001b[1;34m()\u001b[0m\n\u001b[0;32m      1\u001b[0m \u001b[1;31m# building a*e.T\u001b[0m\u001b[1;33m\u001b[0m\u001b[1;33m\u001b[0m\u001b[0m\n\u001b[1;32m----> 2\u001b[1;33m \u001b[0maeT\u001b[0m \u001b[1;33m=\u001b[0m \u001b[0ma\u001b[0m\u001b[1;33m*\u001b[0m\u001b[0me\u001b[0m\u001b[1;33m.\u001b[0m\u001b[0mT\u001b[0m\u001b[1;33m\u001b[0m\u001b[0m\n\u001b[0m\u001b[0;32m      3\u001b[0m \u001b[0mprint\u001b[0m\u001b[1;33m(\u001b[0m\u001b[0maeT\u001b[0m\u001b[1;33m)\u001b[0m\u001b[1;33m\u001b[0m\u001b[0m\n",
      "\u001b[1;32m~\\Anaconda3\\lib\\site-packages\\numpy\\matrixlib\\defmatrix.py\u001b[0m in \u001b[0;36m__mul__\u001b[1;34m(self, other)\u001b[0m\n\u001b[0;32m    307\u001b[0m         \u001b[1;32mif\u001b[0m \u001b[0misinstance\u001b[0m\u001b[1;33m(\u001b[0m\u001b[0mother\u001b[0m\u001b[1;33m,\u001b[0m \u001b[1;33m(\u001b[0m\u001b[0mN\u001b[0m\u001b[1;33m.\u001b[0m\u001b[0mndarray\u001b[0m\u001b[1;33m,\u001b[0m \u001b[0mlist\u001b[0m\u001b[1;33m,\u001b[0m \u001b[0mtuple\u001b[0m\u001b[1;33m)\u001b[0m\u001b[1;33m)\u001b[0m \u001b[1;33m:\u001b[0m\u001b[1;33m\u001b[0m\u001b[0m\n\u001b[0;32m    308\u001b[0m             \u001b[1;31m# This promotes 1-D vectors to row vectors\u001b[0m\u001b[1;33m\u001b[0m\u001b[1;33m\u001b[0m\u001b[0m\n\u001b[1;32m--> 309\u001b[1;33m             \u001b[1;32mreturn\u001b[0m \u001b[0mN\u001b[0m\u001b[1;33m.\u001b[0m\u001b[0mdot\u001b[0m\u001b[1;33m(\u001b[0m\u001b[0mself\u001b[0m\u001b[1;33m,\u001b[0m \u001b[0masmatrix\u001b[0m\u001b[1;33m(\u001b[0m\u001b[0mother\u001b[0m\u001b[1;33m)\u001b[0m\u001b[1;33m)\u001b[0m\u001b[1;33m\u001b[0m\u001b[0m\n\u001b[0m\u001b[0;32m    310\u001b[0m         \u001b[1;32mif\u001b[0m \u001b[0misscalar\u001b[0m\u001b[1;33m(\u001b[0m\u001b[0mother\u001b[0m\u001b[1;33m)\u001b[0m \u001b[1;32mor\u001b[0m \u001b[1;32mnot\u001b[0m \u001b[0mhasattr\u001b[0m\u001b[1;33m(\u001b[0m\u001b[0mother\u001b[0m\u001b[1;33m,\u001b[0m \u001b[1;34m'__rmul__'\u001b[0m\u001b[1;33m)\u001b[0m \u001b[1;33m:\u001b[0m\u001b[1;33m\u001b[0m\u001b[0m\n\u001b[0;32m    311\u001b[0m             \u001b[1;32mreturn\u001b[0m \u001b[0mN\u001b[0m\u001b[1;33m.\u001b[0m\u001b[0mdot\u001b[0m\u001b[1;33m(\u001b[0m\u001b[0mself\u001b[0m\u001b[1;33m,\u001b[0m \u001b[0mother\u001b[0m\u001b[1;33m)\u001b[0m\u001b[1;33m\u001b[0m\u001b[0m\n",
      "\u001b[1;31mValueError\u001b[0m: shapes (1,6) and (1,6) not aligned: 6 (dim 1) != 1 (dim 0)"
     ]
    }
   ],
   "source": [
    "# building a*e.T\n",
    "aeT = a*e.T\n",
    "print(aeT)"
   ]
  },
  {
   "cell_type": "markdown",
   "metadata": {},
   "source": [
    "# replaceing columns of colummns corresponding with dangling nodes replaced with article vector\n",
    "def replace_H(matrixH, matrixA, matrixD):\n",
    "    index = 0\n",
    "    a_list = matrixA.flatten()\n",
    "    for row in matrixD:\n",
    "        print(row)\n",
    "        if np.not_equal(matrixD[index], [0]):\n",
    "            print('inside if')\n",
    "            matrixH[index,:] = a_list\n",
    "        index += 1\n",
    "        matrixH = matrixH.T\n",
    "    return(matrixH)\n",
    "\n",
    "\n",
    "H_T = H.T\n",
    "H_prime = replace_H(H_T, a, d)\n",
    "print(H_prime)\n",
    "\n",
    "#np.where(~a.any(axis=1))[0]\n",
    "print(H)"
   ]
  },
  {
   "cell_type": "code",
   "execution_count": 324,
   "metadata": {},
   "outputs": [
    {
     "name": "stdout",
     "output_type": "stream",
     "text": [
      "(6, 6)\n",
      "[[0.21428571 0.14285714 0.35714286 0.07142857 0.14285714 0.07142857]]\n",
      "[[0.16666667]\n",
      " [0.16666667]\n",
      " [0.16666667]\n",
      " [0.16666667]\n",
      " [0.16666667]\n",
      " [0.16666667]]\n"
     ]
    }
   ],
   "source": [
    "#Using the compute radpidly method to compute the influence vector\n",
    "\n",
    "print(H.shape)\n",
    "print(a)\n",
    "print(pi)\n",
    "def findP(H, pi, a):\n",
    "    residual = 2\n",
    "    count = 0\n",
    "    while (EPSILON < residual):\n",
    "        #pi1 = (ALPHA*d@pi + (1-ALPHA)) * a\n",
    "        pi1 = (ALPHA*H*pi) + ((ALPHA*d@pi + (1-ALPHA)) * a).T\n",
    "        residual = np.linalg.norm((pi1-pi), ord = 1)\n",
    "        pi = pi1\n",
    "        count = count+1\n",
    "    print(count)\n",
    "    return(pi)\n"
   ]
  },
  {
   "cell_type": "code",
   "execution_count": 325,
   "metadata": {},
   "outputs": [
    {
     "name": "stdout",
     "output_type": "stream",
     "text": [
      "18\n",
      "[[0.30402138]\n",
      " [0.16360304]\n",
      " [0.18979616]\n",
      " [0.04661906]\n",
      " [0.27531309]\n",
      " [0.02064727]]\n"
     ]
    }
   ],
   "source": [
    "#g = (ALPHA*d@pi + (1-ALPHA)) * a\n",
    "a = findP(H, pi, a)\n",
    "print(a)"
   ]
  },
  {
   "cell_type": "code",
   "execution_count": 304,
   "metadata": {},
   "outputs": [
    {
     "name": "stdout",
     "output_type": "stream",
     "text": [
      "[[0.30402138]\n",
      " [0.16360304]\n",
      " [0.18979616]\n",
      " [0.04661906]\n",
      " [0.27531309]\n",
      " [0.02064727]]\n",
      "[[0.         0.         0.28571429 0.         0.8        0.5       ]\n",
      " [0.23076923 0.         0.14285714 1.         0.         0.        ]\n",
      " [0.15384615 0.         0.         0.         0.2        0.        ]\n",
      " [0.         0.         0.14285714 0.         0.         0.16666667]\n",
      " [0.61538462 0.         0.42857143 0.         0.         0.33333333]\n",
      " [0.         0.         0.         0.         0.         0.        ]]\n"
     ]
    }
   ],
   "source": [
    "print(a)\n",
    "print(H)"
   ]
  },
  {
   "cell_type": "code",
   "execution_count": 305,
   "metadata": {
    "collapsed": true
   },
   "outputs": [],
   "source": [
    "# finding Eigenfactor for each journal \n",
    "def Eigenfactor(matrixH, matrixa):\n",
    "    dot = matrixH @ matrixa\n",
    "    EF = np.array([dot / np.sum(dot)]) * 100\n",
    "    #EF = np.array(EF[0])\n",
    "    return(EF)\n",
    "    "
   ]
  },
  {
   "cell_type": "code",
   "execution_count": 306,
   "metadata": {},
   "outputs": [
    {
     "name": "stdout",
     "output_type": "stream",
     "text": [
      "[[[34.05100649]\n",
      "  [17.20374224]\n",
      "  [12.17545523]\n",
      "  [ 3.6531636 ]\n",
      "  [32.91663244]\n",
      "  [ 0.        ]]]\n",
      "<function indices at 0x0DD80390>\n"
     ]
    }
   ],
   "source": [
    "EF = Eigenfactor(H,a)\n",
    "print(EF)\n",
    "print(np.indices)"
   ]
  },
  {
   "cell_type": "code",
   "execution_count": 307,
   "metadata": {},
   "outputs": [
    {
     "ename": "ValueError",
     "evalue": "not enough values to unpack (expected 2, got 1)",
     "output_type": "error",
     "traceback": [
      "\u001b[1;31m---------------------------------------------------------------------------\u001b[0m",
      "\u001b[1;31mValueError\u001b[0m                                Traceback (most recent call last)",
      "\u001b[1;32m<ipython-input-307-ba5c52c3f93f>\u001b[0m in \u001b[0;36m<module>\u001b[1;34m()\u001b[0m\n\u001b[0;32m     10\u001b[0m     \u001b[0mvalue\u001b[0m \u001b[1;33m=\u001b[0m \u001b[0mline\u001b[0m\u001b[1;33m.\u001b[0m\u001b[0msplit\u001b[0m\u001b[1;33m(\u001b[0m\u001b[1;34m\", \"\u001b[0m\u001b[1;33m)\u001b[0m\u001b[1;33m\u001b[0m\u001b[0m\n\u001b[0;32m     11\u001b[0m     \u001b[0mr_list\u001b[0m \u001b[1;33m=\u001b[0m \u001b[0mlist\u001b[0m\u001b[1;33m(\u001b[0m\u001b[0mmap\u001b[0m\u001b[1;33m(\u001b[0m\u001b[0mint\u001b[0m\u001b[1;33m,\u001b[0m \u001b[0mvalue\u001b[0m\u001b[1;33m)\u001b[0m\u001b[1;33m)\u001b[0m\u001b[1;33m\u001b[0m\u001b[0m\n\u001b[1;32m---> 12\u001b[1;33m     \u001b[0mAdj\u001b[0m\u001b[1;33m[\u001b[0m\u001b[0mvalue\u001b[0m\u001b[1;33m[\u001b[0m\u001b[1;36m0\u001b[0m\u001b[1;33m]\u001b[0m\u001b[1;33m]\u001b[0m\u001b[1;33m,\u001b[0m\u001b[1;33m[\u001b[0m\u001b[0mvalue\u001b[0m\u001b[1;33m[\u001b[0m\u001b[1;36m1\u001b[0m\u001b[1;33m]\u001b[0m\u001b[1;33m]\u001b[0m \u001b[1;33m=\u001b[0m \u001b[0mvalue\u001b[0m\u001b[1;33m[\u001b[0m\u001b[1;36m2\u001b[0m\u001b[1;33m]\u001b[0m\u001b[1;33m\u001b[0m\u001b[0m\n\u001b[0m\u001b[0;32m     13\u001b[0m     \u001b[0mcount\u001b[0m \u001b[1;33m+=\u001b[0m \u001b[1;36m1\u001b[0m\u001b[1;33m\u001b[0m\u001b[0m\n\u001b[0;32m     14\u001b[0m \u001b[1;33m\u001b[0m\u001b[0m\n",
      "\u001b[1;31mValueError\u001b[0m: not enough values to unpack (expected 2, got 1)"
     ]
    }
   ],
   "source": [
    "import timeit\n",
    "\n",
    "file = open('links.txt', 'r')\n",
    "\n",
    "count = 0\n",
    "Adj = np.empty((10748, 10748))\n",
    "#Adj = sp.sparse.lil_matrix((10748, 10748))\n",
    "for line in file:\n",
    "    line = line.strip('\\n')\n",
    "    value = line.split(\", \")\n",
    "    r_list = list(map(int, value))\n",
    "    Adj[value[0]],[value[1]] = value[2]\n",
    "    count += 1\n",
    "\n",
    "print(count)\n",
    "        \n",
    "f.close()\n",
    "\n",
    "\n",
    "\n",
    "print(Adj)\n"
   ]
  },
  {
   "cell_type": "code",
   "execution_count": null,
   "metadata": {
    "collapsed": true
   },
   "outputs": [],
   "source": []
  },
  {
   "cell_type": "code",
   "execution_count": null,
   "metadata": {
    "collapsed": true
   },
   "outputs": [],
   "source": []
  }
 ],
 "metadata": {
  "kernelspec": {
   "display_name": "Python 3",
   "language": "python",
   "name": "python3"
  },
  "language_info": {
   "codemirror_mode": {
    "name": "ipython",
    "version": 3
   },
   "file_extension": ".py",
   "mimetype": "text/x-python",
   "name": "python",
   "nbconvert_exporter": "python",
   "pygments_lexer": "ipython3",
   "version": "3.6.3"
  }
 },
 "nbformat": 4,
 "nbformat_minor": 2
}
